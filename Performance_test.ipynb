{
 "cells": [
  {
   "cell_type": "code",
   "execution_count": null,
   "metadata": {},
   "outputs": [],
   "source": [
    "from psnrb import psnrb\n",
    "from modules.CustomLosses import LSSIM\n",
    "import sewar\n",
    "import numpy as np\n",
    "import tensorflow as tf\n",
    "\n",
    "img1_np = np.random.rand(5000,64,64,1)*255\n",
    "img2_np = np.random.rand(5000,64,64,1)*222\n",
    "img1 = tf.constant(img1_np, dtype=tf.float64)\n",
    "img2 = tf.constant(img2_np, dtype=tf.float64)\n"
   ]
  },
  {
   "cell_type": "code",
   "execution_count": null,
   "metadata": {},
   "outputs": [],
   "source": [
    "%timeit psnrb(img2,img1)"
   ]
  },
  {
   "cell_type": "code",
   "execution_count": null,
   "metadata": {},
   "outputs": [],
   "source": [
    "%timeit LSSIM().call(img2, img1)"
   ]
  },
  {
   "cell_type": "code",
   "execution_count": null,
   "metadata": {},
   "outputs": [],
   "source": [
    "%timeit [sewar.psnrb(img1_np[index], img2_np[index]) for index in range(5000)]"
   ]
  },
  {
   "cell_type": "code",
   "execution_count": null,
   "metadata": {},
   "outputs": [],
   "source": [
    "np.max(np.abs(psnrb(img1,img2) - [sewar.psnrb(img1_np[index], img2_np[index]) for index in range(5000)]))\n"
   ]
  }
 ],
 "metadata": {
  "kernelspec": {
   "display_name": "Auto2",
   "language": "python",
   "name": "python3"
  },
  "language_info": {
   "codemirror_mode": {
    "name": "ipython",
    "version": 3
   },
   "file_extension": ".py",
   "mimetype": "text/x-python",
   "name": "python",
   "nbconvert_exporter": "python",
   "pygments_lexer": "ipython3",
   "version": "3.8.2"
  },
  "orig_nbformat": 4,
  "vscode": {
   "interpreter": {
    "hash": "78e0caa509ae03115ae88a4b08e8fade5e246697214a9f0953a333e2333df42b"
   }
  }
 },
 "nbformat": 4,
 "nbformat_minor": 2
}
