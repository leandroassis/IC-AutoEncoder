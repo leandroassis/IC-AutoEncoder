{
 "cells": [
  {
   "cell_type": "code",
   "execution_count": null,
   "metadata": {},
   "outputs": [],
   "source": [
    "import plotly.express as px\n",
    "import ast\n",
    "from pandas import DataFrame, read_csv\n",
    "\n",
    "training_table = read_csv(\"/home/apeterson056/AutoEncoder/codigoGitHub/IC-AutoEncoder/logs/AllTrainingData.csv\")\n",
    "model_table = read_csv(\"/home/apeterson056/AutoEncoder/codigoGitHub/IC-AutoEncoder/logs/models.csv\")\n",
    "\n",
    "model_data = \"total_params\"\n",
    "\n",
    "result_data = \"best_ssim_metric\"\n",
    "\n",
    "to_exclude = ['MeanAbsoluteError+AdversarialLoss', 'L1AdversarialLoss']\n",
    "\n",
    "x = []\n",
    "y = []\n",
    "c = []\n",
    "s = []\n",
    "idx = []\n",
    "model_name = []\n",
    "\n",
    "c_base = {\"LSSIM\": \"LSSIM\", \"MeanSquaredError\": \"MeanSquaredError\", 'MeanAbsoluteError': \"MeanAbsoluteError\"}\n",
    "\n",
    "for _,line in training_table.iterrows():\n",
    "\n",
    "    results_dict = ast.literal_eval(f'{line[\"results\"]}')\n",
    "\n",
    "\n",
    "    if result_data in results_dict and results_dict[result_data] > 0.6 and not line['loss'] in to_exclude:\n",
    "        y.append(results_dict[result_data])\n",
    "        c.append( c_base[str(line[\"loss\"])])\n",
    "        s.append( str(line[\"optimizer\"]) )\n",
    "        x.append(float(model_table.loc[model_table['model_name'] == line[\"model_name\"]][model_data]))\n",
    "        idx.append(line['training_idx'])\n",
    "        model_name.append(line['model_name'])\n",
    "\n",
    "\n",
    "px.scatter(x= x,y= y, log_x=True, color=c, hover_data = {\"idx\":idx,\"model\":model_name}, labels = {'y':\"SSIM\", 'x':\"Número total de parâmetros\"})\n",
    "    "
   ]
  },
  {
   "cell_type": "code",
   "execution_count": null,
   "metadata": {},
   "outputs": [],
   "source": [
    "import plotly.express as px\n",
    "import ast\n",
    "from pandas import DataFrame, read_csv\n",
    "from math import log\n",
    "\n",
    "training_table = read_csv(\"/home/apeterson056/AutoEncoder/codigoGitHub/IC-AutoEncoder/logs/AllTrainingData.csv\")\n",
    "model_table = read_csv(\"/home/apeterson056/AutoEncoder/codigoGitHub/IC-AutoEncoder/logs/models.csv\")\n",
    "\n",
    "model_data = \"total_treinable_layers\"\n",
    "\n",
    "result_data = \"best_val_ssim_metric\"\n",
    "\n",
    "x = []\n",
    "y = []\n",
    "c = []\n",
    "s = []\n",
    "\n",
    "c_base = {\"U\": 'Unet', \"A\": 'AutoEnconder', 'C': 'ApenasConvolução'}\n",
    "\n",
    "for _,line in training_table.iterrows():\n",
    "\n",
    "    results_dict = ast.literal_eval(f'{line[\"results\"]}')\n",
    "\n",
    "\n",
    "    if result_data in results_dict and results_dict[result_data] > 0.6:\n",
    "        y.append(results_dict[result_data])\n",
    "        c.append( log(float(model_table.loc[model_table['model_name'] == line[\"model_name\"]]['total_params'])))\n",
    "        s.append( str(line[\"optimizer\"]) )\n",
    "        x.append(float(model_table.loc[model_table['model_name'] == line[\"model_name\"]][model_data]))\n",
    "\n",
    "\n",
    "px.scatter(x= x,y= y, log_x=True, color=c, labels = {'y':\"SSIM\", 'x':\"Número de camadas com parâmetros\", \"color\":\"Número de parâmetros (log)\"})"
   ]
  },
  {
   "cell_type": "code",
   "execution_count": null,
   "metadata": {},
   "outputs": [],
   "source": [
    "model_data1 = \"total_params\"\n",
    "\n",
    "model_data2 = \"total_layers\"\n",
    "\n",
    "result_data = \"best_val_ssim_metric\"\n",
    "\n",
    "x = []\n",
    "y = []\n",
    "z = []\n",
    "c = []\n",
    "\n",
    "for _,line in training_table.iterrows():\n",
    "\n",
    "    results_dict = ast.literal_eval(f'{line[\"results\"]}')\n",
    "\n",
    "\n",
    "    if result_data in results_dict and results_dict[result_data] > 0.6:\n",
    "        z.append(results_dict[result_data])\n",
    "        c.append( c_base[str(line[\"model_name\"])[0]] )\n",
    "        x.append(float(model_table.loc[model_table['model_name'] == line[\"model_name\"]][model_data1]))\n",
    "        y.append(float(model_table.loc[model_table['model_name'] == line[\"model_name\"]][model_data2]))\n",
    "\n",
    "    \n",
    "px.scatter_3d(x=x,y=y,z=z ,log_x= True,color=c)"
   ]
  },
  {
   "cell_type": "code",
   "execution_count": null,
   "metadata": {},
   "outputs": [],
   "source": [
    "from modules.TrainingManager import KerasTrainingManager\n",
    "\n",
    "generator = KerasTrainingManager(training_idx=56)\n",
    "\n",
    "imgs = generator.get_example_imgs(generator._get_model())"
   ]
  },
  {
   "cell_type": "code",
   "execution_count": null,
   "metadata": {},
   "outputs": [],
   "source": [
    "import plotly.express as px\n",
    "import numpy as np\n",
    "\n",
    "final_gan_predict = np.load(\"final_gan_predict.npy\").reshape(2000,100)\n",
    "init_gan_predict = np.load(\"Init_gan_predict.npy\").reshape(2000,100)\n",
    "normal_distribution = np.load(\"normal_distribution.npy\").reshape(2000,100)\n",
    "\n",
    "px.histogram(x = init_gan_predict[:,51])"
   ]
  },
  {
   "cell_type": "code",
   "execution_count": null,
   "metadata": {},
   "outputs": [],
   "source": [
    "px.histogram(x = normal_distribution[50])"
   ]
  },
  {
   "cell_type": "code",
   "execution_count": null,
   "metadata": {},
   "outputs": [],
   "source": []
  }
 ],
 "metadata": {
  "kernelspec": {
   "display_name": "Python 3.8.2 ('Auto2')",
   "language": "python",
   "name": "python3"
  },
  "language_info": {
   "codemirror_mode": {
    "name": "ipython",
    "version": 3
   },
   "file_extension": ".py",
   "mimetype": "text/x-python",
   "name": "python",
   "nbconvert_exporter": "python",
   "pygments_lexer": "ipython3",
   "version": "3.10.6"
  },
  "vscode": {
   "interpreter": {
    "hash": "78e0caa509ae03115ae88a4b08e8fade5e246697214a9f0953a333e2333df42b"
   }
  }
 },
 "nbformat": 4,
 "nbformat_minor": 2
}
