{
 "cells": [
  {
   "cell_type": "code",
   "execution_count": null,
   "metadata": {},
   "outputs": [],
   "source": [
    "from tensorflow.keras.optimizers import Adam, SGD\n",
    "from tensorflow.keras.callbacks import Callback, CSVLogger, TensorBoard\n",
    "from tensorflow.python.saved_model.loader_impl import parse_saved_model\n",
    "from tensorflow.keras.losses import MSE, MeanAbsoluteError, BinaryCrossentropy\n",
    "\n",
    "from modules.misc import ssim_metric, get_model\n",
    "from modules.DataMod import DataSet\n",
    "\n",
    "from os import environ\n",
    "from ImageMetrics.metrics import three_ssim, psnrb\n",
    "import numpy as np\n",
    "\n",
    "environ[\"CUDA_VISIBLE_DEVICES\"]=\"1\"\n"
   ]
  },
  {
   "cell_type": "code",
   "execution_count": null,
   "metadata": {},
   "outputs": [],
   "source": [
    "dataset = DataSet().load_rafael_cifar_10_noise_data()"
   ]
  },
  {
   "cell_type": "code",
   "execution_count": null,
   "metadata": {},
   "outputs": [],
   "source": [
    "three_ssim(dataset.y_train[2:3],dataset.x_train[2:3], weight_for_smooth=5)"
   ]
  },
  {
   "cell_type": "code",
   "execution_count": null,
   "metadata": {},
   "outputs": [],
   "source": [
    "import matplotlib.pyplot as plt\n",
    "#%matplotlib inline\n",
    "imagens = np.concatenate((dataset.x_test[imgs], ssim_imgs, ssim3_imgs, dataset.y_test[imgs]))\n",
    "fig = plt.figure(figsize=(32, 32))\n",
    "columns = 5\n",
    "rows = 4\n",
    "for i in range(1, columns*rows +1):\n",
    "    fig.add_subplot(rows, columns, i)\n",
    "    plt.imshow(imagens[i-1], cmap = \"gray\")\n",
    "plt.show()"
   ]
  }
 ],
 "metadata": {
  "kernelspec": {
   "display_name": "Auto2",
   "language": "python",
   "name": "python3"
  },
  "language_info": {
   "codemirror_mode": {
    "name": "ipython",
    "version": 3
   },
   "file_extension": ".py",
   "mimetype": "text/x-python",
   "name": "python",
   "nbconvert_exporter": "python",
   "pygments_lexer": "ipython3",
   "version": "3.10.6"
  },
  "orig_nbformat": 4,
  "vscode": {
   "interpreter": {
    "hash": "78e0caa509ae03115ae88a4b08e8fade5e246697214a9f0953a333e2333df42b"
   }
  }
 },
 "nbformat": 4,
 "nbformat_minor": 2
}
