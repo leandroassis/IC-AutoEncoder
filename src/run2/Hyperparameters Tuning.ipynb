{
 "cells": [
  {
   "cell_type": "code",
   "execution_count": 1,
   "id": "a64357db",
   "metadata": {},
   "outputs": [],
   "source": [
    "# setting up paths\n",
    "\n",
    "from sys import path\n",
    "from os import environ\n",
    "\n",
    "path.append(\"/home/leandrosantos/IC-AutoEncoder/\")\n",
    "path.append(\"/home/leandrosantos/IC-AutoEncoder/modules/\")\n",
    "\n",
    "environ[\"CUDA_VISIBLE_DEVICES\"] = \"2,3\""
   ]
  },
  {
   "cell_type": "code",
   "execution_count": null,
   "id": "393ca0a9",
   "metadata": {},
   "outputs": [
    {
     "name": "stderr",
     "output_type": "stream",
     "text": [
      "2023-09-29 17:47:21.610870: I tensorflow/core/platform/cpu_feature_guard.cc:193] This TensorFlow binary is optimized with oneAPI Deep Neural Network Library (oneDNN) to use the following CPU instructions in performance-critical operations:  AVX2 FMA\n",
      "To enable them in other operations, rebuild TensorFlow with the appropriate compiler flags.\n"
     ]
    }
   ],
   "source": [
    "# first of all, we need to see the noised images from the dataset\n",
    "\n",
    "from modules.DataMod import DataSet\n",
    "import matplotlib.pyplot as plt\n",
    "import random as rd \n",
    "\n",
    "cifar, tiny, dataset, noised_dataset = DataSet(), DataSet(), DataSet(), DataSet()\n",
    "\n",
    "cifar.load_rafael_cifar_10_noise_data()\n",
    "tiny.load_rafael_tinyImagenet_64x64_noise_data()\n",
    "\n",
    "dataset.load_cifar_and_tiny(cifar, tiny)\n",
    "#dataset.normalize_dataset()\n",
    "\n",
    "noised_dataset.load_cifar_and_tiny(cifar, tiny)\n",
    "noised_dataset.add_gaussian_noise(dist_normal = 0.1) # adds gaussian noise\n",
    "#noised_dataset.normalize_dataset()"
   ]
  },
  {
   "cell_type": "code",
   "execution_count": null,
   "id": "c73603f6",
   "metadata": {},
   "outputs": [],
   "source": [
    "plt.figure(figsize=(8, 8))\n",
    "columns = 2\n",
    "rows = 5\n",
    "\n",
    "magic_number = [rd.randint(0, dataset.x_train.shape[0]-1) for x in range(rows)]\n",
    "\n",
    "plt.subplot(rows, columns, 1)\n",
    "plt.title(\"Noised Image\")\n",
    "plt.subplot(rows, columns, 2)\n",
    "plt.title(\"Non-Noised Image\")\n",
    "\n",
    "for idx in range(rows):\n",
    "    plt.subplot(rows, columns, columns*idx + 1)\n",
    "    plt.imshow(noised_dataset.x_train[magic_number[idx]], cmap=\"gray\")\n",
    "    plt.axis(\"off\")\n",
    "    plt.subplot(rows, columns, columns*idx + 2)\n",
    "    plt.imshow(dataset.x_train[magic_number[idx]], cmap=\"gray\")\n",
    "    plt.axis(\"off\")"
   ]
  },
  {
   "cell_type": "code",
   "execution_count": null,
   "id": "94484637",
   "metadata": {},
   "outputs": [],
   "source": []
  }
 ],
 "metadata": {
  "kernelspec": {
   "display_name": "Python 3 (ipykernel)",
   "language": "python",
   "name": "python3"
  },
  "language_info": {
   "codemirror_mode": {
    "name": "ipython",
    "version": 3
   },
   "file_extension": ".py",
   "mimetype": "text/x-python",
   "name": "python",
   "nbconvert_exporter": "python",
   "pygments_lexer": "ipython3",
   "version": "3.10.9"
  }
 },
 "nbformat": 4,
 "nbformat_minor": 5
}
