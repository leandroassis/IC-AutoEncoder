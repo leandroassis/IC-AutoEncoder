{
 "cells": [
  {
   "cell_type": "code",
   "execution_count": null,
   "metadata": {},
   "outputs": [],
   "source": [
    "from sys import path\n",
    "from os import getcwd, environ, walk\n",
    "\n",
    "path.insert(0, getcwd())\n",
    "path.insert(0, getcwd() + \"/modules/\")\n",
    "environ[\"CUDA_VISIBLE_DEVICES\"] = \"3\"\n",
    "\n",
    "from modules.DataMod import DataSet\n",
    "\n",
    "import matplotlib.pyplot as plt\n",
    "import random as rd\n",
    "\n",
    "from keras import models "
   ]
  },
  {
   "cell_type": "code",
   "execution_count": null,
   "metadata": {},
   "outputs": [],
   "source": [
    "tinyDataSet, cifarDataSet, cifarAndTinyDataSet = DataSet(), DataSet(), DataSet()\n",
    "\n",
    "tinyDataSet = tinyDataSet.load_rafael_tinyImagenet_64x64_noise_data()\n",
    "cifarDataSet = cifarDataSet.load_rafael_cifar_10_noise_data()\n",
    "\n",
    "# concatenates the datasets\n",
    "cifarAndTinyDataSet = cifarAndTinyDataSet.concatenateDataSets(cifarDataSet, tinyDataSet)"
   ]
  },
  {
   "cell_type": "code",
   "execution_count": null,
   "metadata": {},
   "outputs": [],
   "source": [
    "def plot_model_graphic(model, dataset, output_path):\n",
    "        # plots the model\n",
    "        \n",
    "        print(dataset.x_test)\n",
    "        print(dataset.x_test[0].shape)\n",
    "\n",
    "        plt.figure(figsize=(10, 10))\n",
    "\n",
    "        columns = 3\n",
    "        rows = 5\n",
    "\n",
    "        for idx in [rd.randint(0, len(dataset.x_test)) for i in range(rows)]:\n",
    "                plt.subplot(rows, columns, columns*idx + 1)\n",
    "                plt.title(\"Original Image\")\n",
    "                plt.imshow(dataset.x_test[idx])\n",
    "                plt.subplot(rows, columns, columns*idx + 2)\n",
    "                plt.title(\"Goal Image\")\n",
    "                plt.imshow(dataset.y_test[idx])\n",
    "                plt.subplot(rows, columns, columns*idx + 3)\n",
    "                plt.title(\"Predicted Image\")\n",
    "                plt.imshow(model.predict(dataset.x_test[idx].reshape(1, 64, 64, 3))[0])\n",
    "\n",
    "        plt.savefig(output_path)\n",
    "        plt.close()"
   ]
  },
  {
   "cell_type": "code",
   "execution_count": null,
   "metadata": {},
   "outputs": [],
   "source": [
    "NNmodels = {}\n",
    "\n",
    "for path in [\"AutoEncoder-2.3-64x64.json\", \"ResidualAutoEncoder-0.1-64x64.json\", \"Unet2.3-64x64.json\"]:\n",
    "        # reads the model\n",
    "        with open(\"models/arch/\"+path, \"r\") as json_file:\n",
    "                model = models.model_from_json(json_file.read())\n",
    "                NNmodels[model.name] = model\n",
    "\n",
    "\n",
    "for model in NNmodels:\n",
    "    for (dirpath, dirnames, filenames) in walk(\"logs/run1/weights/\"):\n",
    "        for filename in filenames:\n",
    "            if filename.startswith(model):\n",
    "\n",
    "                NNmodels[model].load_weights(filename)\n",
    "\n",
    "                for dataset in [cifarAndTinyDataSet, cifarDataSet, tinyDataSet]:\n",
    "                    if dataset.name in filename:\n",
    "                        print(\"Evaluating model: \" + filename.split(\".\")[0])\n",
    "                        loss, ssim, tssim, psnrb = NNmodels[model].evaluate(x = dataset.x_test, y = dataset.y_test, verbose = 2)\n",
    "                        print(\"Loss: \" + str(loss))\n",
    "                        print(\"SSIM: \" + str(ssim))\n",
    "                        print(\"3SSIM: \" + str(tssim))\n",
    "                        print(\"PSNRB: \" + str(psnrb))\n",
    "                        print(\"\\n\")\n",
    "\n",
    "                        plot_model_graphic(NNmodels[model], dataset, \"/logs/run1/plots/\"+filename.split(\".\")[0]+\".png\")"
   ]
  }
 ],
 "metadata": {
  "language_info": {
   "name": "python"
  },
  "orig_nbformat": 4
 },
 "nbformat": 4,
 "nbformat_minor": 2
}
