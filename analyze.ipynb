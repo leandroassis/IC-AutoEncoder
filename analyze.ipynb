{
 "cells": [
  {
   "cell_type": "code",
   "execution_count": null,
   "metadata": {},
   "outputs": [],
   "source": [
    "from sys import path\n",
    "from os import getcwd, environ, walk\n",
    "\n",
    "path.insert(0, getcwd())\n",
    "path.insert(0, getcwd() + \"/modules/\")\n",
    "environ[\"CUDA_VISIBLE_DEVICES\"] = \"3,1\"\n",
    "\n",
    "import matplotlib.pyplot as plt\n",
    "\n",
    "from keras import models "
   ]
  },
  {
   "cell_type": "code",
   "execution_count": null,
   "metadata": {},
   "outputs": [],
   "source": [
    "\n",
    "\n",
    "datasets = {}"
   ]
  },
  {
   "cell_type": "code",
   "execution_count": null,
   "metadata": {},
   "outputs": [],
   "source": [
    "NNmodels = {}\n",
    "\n",
    "for path in [\"AutoEncoder-2.3-64x64.json\", \"ResidualAutoEncoder-0.1-64x64.json\", \"Unet2.3-64x64.json\"]:\n",
    "        # reads the model\n",
    "        with open(\"models/arch/\"+path, \"r\") as json_file:\n",
    "                model = models.model_from_json(json_file.read())\n",
    "                NNmodels[model.name] = model\n",
    "\n",
    "\n",
    "for model in NNmodels:\n",
    "    for (dirpath, dirnames, filenames) in walk(\"logs/weights/run1/\"):\n",
    "        for filename in filenames:\n",
    "            if filename.startswith(model.name):\n",
    "\n",
    "                model.load_weights(filename)\n",
    "\n",
    "                loss, acc = model.evaluate(test_images, test_labels, verbose=2)\n",
    "                plt.savefig(\"logs/weights/run1/\" + model.name + \".png\")\n",
    "                plt.clf(\n",
    "        \n"
   ]
  }
 ],
 "metadata": {
  "language_info": {
   "name": "python"
  },
  "orig_nbformat": 4
 },
 "nbformat": 4,
 "nbformat_minor": 2
}
